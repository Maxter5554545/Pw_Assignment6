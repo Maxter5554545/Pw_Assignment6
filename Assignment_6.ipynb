{
 "cells": [
  {
   "cell_type": "code",
   "execution_count": null,
   "id": "b9b0e964-5dff-4574-bbdd-91c1bae4743b",
   "metadata": {},
   "outputs": [],
   "source": [
    "#Q1. Who developed Python Programming Language? \n",
    "print(\"Guido van Rossum invented Python in 1991.\")"
   ]
  },
  {
   "cell_type": "code",
   "execution_count": null,
   "id": "8dc64748-5167-4bd8-bef4-d29635cedfbe",
   "metadata": {},
   "outputs": [],
   "source": [
    "#Q2. Which type of Programming does Python support ? \n",
    "print(\"\"\" Python is a versatile programming language which supports multiple programming type. \n",
    "Such as: \n",
    "\n",
    "1. Functional Programming\n",
    "2. Object-Oriented Programming\n",
    "3. Procedural Programming \n",
    "4. Imperative Programming \n",
    "5. Reflective Programming\"\"\")"
   ]
  },
  {
   "cell_type": "code",
   "execution_count": null,
   "id": "071bdb38-4515-43ef-9a6f-7824e5212fd2",
   "metadata": {},
   "outputs": [],
   "source": [
    "# Q3. Is Python case sensitive when dealing with identifiers ? \n",
    "print(\"Yes, Python is a case sensitive language when we are dealing with identifiers or variables, for example:\\n\")\n",
    "\n",
    "print(\"The explation is shown in python comments.\\n\")\n",
    "Mysql = \"It the varable of Mysql database\" #We are assigning a value with the variable of \"Mysql\", Here I'm using Capital 'M' for \n",
    "\n",
    "# print(mysql) #If we try to print the value by using print command inside it we'are using the same name of variable but in different small letter it will give me error\n",
    "\n",
    "#instead of I can use: \n",
    "\n",
    "print(Mysql)"
   ]
  },
  {
   "cell_type": "code",
   "execution_count": null,
   "id": "68ee98be-6e76-4d7a-8028-48c8a70dc8c3",
   "metadata": {},
   "outputs": [],
   "source": [
    "#Q4. What is the correct extension of Python file ? \n",
    "print(\"The correct extension of Python file is .py\")"
   ]
  },
  {
   "cell_type": "code",
   "execution_count": null,
   "id": "888ab8a0-fb9c-460d-8638-a5e95c88f048",
   "metadata": {},
   "outputs": [],
   "source": [
    "#Q5. Is Python code compiled or interpreted ? \n",
    "print(\"The python is both compiled & interpreted code because it can execute single & multiple both line of code . \")"
   ]
  },
  {
   "cell_type": "code",
   "execution_count": null,
   "id": "ec1bd5bd-3f9b-417c-bd07-41f887440013",
   "metadata": {},
   "outputs": [],
   "source": [
    "#Q6. Name a few block of code used to define a python programming language ?\n",
    "\n",
    "#Block of codes used to define python are \n",
    "\n",
    "print(\"I'm mrinal devnath, I purchased Data science masters course from P.W. & I'm glad to have it.\")# here we are using print() function for displaying the value in the terminal\n",
    "\n",
    "for i in  range(1, 11): #Here we are using colon istead of semi-colon & curly brackets\n",
    "    print(i)\n",
    "    \n",
    "t = 0 #assigning value 0 to variable 't'. \n",
    "while t < 10: #as same goes for while loop we are using colons instead of semi-colons & curly brackets\n",
    "    t += 1\n",
    "    print(t)\n",
    "\n",
    "p = int(input())#here we are using int() => integer & input() for the user input this function is only in python \n",
    "\n",
    "if p > 100  : #here we are giving a condtional statement by using if function without using curly braces and many complex sutffs.\n",
    "    print(\"pw  is awesome\")\n",
    "elif p == 50 or p < 200: # elif key word is only used in python to define more conditional statements in python \n",
    "    print(\"pw is fantastic\")\n",
    "else: #else statement if both if & elif are False\n",
    "    print(\"Pw is cool\")\n",
    "\n",
    "#This is just a sample there are many more functions by which we can define python "
   ]
  },
  {
   "cell_type": "code",
   "execution_count": null,
   "id": "846053b5-0d2a-4d80-aa3b-84e25b205882",
   "metadata": {},
   "outputs": [],
   "source": [
    "#7. State the character used to give single-line comments in Python ? \n",
    "\n",
    "print(\"'#' character is used to give single-line comments in python.\")"
   ]
  },
  {
   "cell_type": "code",
   "execution_count": null,
   "id": "2d60d8f2-398b-4760-9823-a1c70d733cb9",
   "metadata": {},
   "outputs": [],
   "source": [
    "#8.Mention a function which can help us to find the version of python that we are currently working on it? \n",
    "import sys #we will be using sys module \n",
    "\n",
    "print(sys.version)# now we can print() the version of python using sys functions "
   ]
  },
  {
   "cell_type": "code",
   "execution_count": null,
   "id": "48659966-63b2-45f8-9b8e-e568d7141f9d",
   "metadata": {},
   "outputs": [],
   "source": [
    "#9.Python supports the creation of anonymous function at runtime, using a construct called \n",
    "\n",
    "print(\"Python uses anonymous functions also called 'lambda functions at runtime'.\")"
   ]
  },
  {
   "cell_type": "code",
   "execution_count": null,
   "id": "20aa1f19-d092-4fbc-9df7-224da71e3372",
   "metadata": {},
   "outputs": [],
   "source": [
    "#10.What does pip stands for ? \n",
    "print(\"Pip installs for PIP installs packages.\")"
   ]
  },
  {
   "cell_type": "code",
   "execution_count": null,
   "id": "a34e2631-70f5-4ae3-b831-8729dbbdf556",
   "metadata": {},
   "outputs": [],
   "source": [
    "#11.Mention a few built in functions in python ? \n",
    "\n",
    "#built-in functions used in python are \n",
    "\n",
    "# list() function converts any data-type into lists\n",
    "\n",
    "# int() function used to covert data-type into integers.\n",
    "\n",
    "# str() function used to convert any data-type into integers.\n",
    "\n",
    "#def: define function used to set any function in python. \n",
    "\n",
    "# sum() function used to add up all the values of data-type except strings and raw integers.\n",
    "\n",
    "# len() functions used to check the length of the given string.\n",
    "\n",
    "#max() function used for displaying the maximum value of any integer or float.\n",
    "\n",
    "#abs() function used for displaying the absolute value of any integer or float. "
   ]
  },
  {
   "cell_type": "code",
   "execution_count": null,
   "id": "5dc147de-2161-4458-a513-26f048072396",
   "metadata": {},
   "outputs": [],
   "source": [
    "#12.What is the maximum possible length of an identifier in python ? \n",
    "\n",
    "print(\"The maximum possible length of an identifier in python is unlimited.\")"
   ]
  },
  {
   "cell_type": "code",
   "execution_count": null,
   "id": "748f382e-95c2-448f-b564-34a8e43973a5",
   "metadata": {},
   "outputs": [],
   "source": [
    "#13.What are the benifits of using python ? \n",
    "\n",
    "print('''1.Readability: Python code is clear and easy to read, enhancing collaboration and maintainability.\n",
    "\n",
    "2. Large Standard Library: Extensive built-in modules and packages for various tasks.\n",
    "\n",
    "3. Versatility: Supports procedural, object-oriented, and functional programming.\n",
    "\n",
    "4. Productivity: Focus on simplicity and ease of use leads to increased developer productivity.\n",
    "\n",
    "5.Frameworks and Libraries: Rich ecosystem for web development, data science, machine learning, and more.\n",
    "\n",
    "6.Documentation: Comprehensive and well-maintained documentation.''')"
   ]
  },
  {
   "cell_type": "code",
   "execution_count": null,
   "id": "e0f4c3f8-604e-4efe-9efc-968c9757142b",
   "metadata": {},
   "outputs": [],
   "source": [
    "#14.How is memory managed in python ? \n",
    "print('''1. There is a Heap space in python where it stores all the data\n",
    "2. Python dynamically allocates & frees up memory based on your program's need\n",
    "3.Python keeps track of how many times a piece of data is being used as refrence count. If something is not needed any more reference count drops to zero. \n",
    "4.To handle complex cases where objects refer each other in a loop cyclic decetor is used for avoiding memory issues.''')"
   ]
  },
  {
   "cell_type": "code",
   "execution_count": null,
   "id": "9ebe1bda-8b1d-4c73-a7ec-a3c126d378ea",
   "metadata": {},
   "outputs": [],
   "source": [
    "#15.How to install python on Windows & set path variables?\n",
    "print(''' Installing Python on Windows and setting up the path variables involves a few simple steps. Here's a step-by-step guide:\n",
    "\n",
    "### Installing Python on Windows:\n",
    "\n",
    "1. **Download Python:**\n",
    "   - Visit the [official Python website](https://www.python.org/downloads/) and click on the \"Downloads\" tab.\n",
    "   - Choose the latest version of Python for Windows and download the installer (usually a `.exe` file).\n",
    "\n",
    "2. **Run the Installer:**\n",
    "   - Once the download is complete, run the installer.\n",
    "   - Ensure that you check the box that says \"Add Python to PATH\" during the installation.\n",
    "\n",
    "3. **Customize Installation (Optional):**\n",
    "   - You can customize the installation by clicking on the \"Customize installation\" button. This allows you to choose optional features and change the installation directory.\n",
    "\n",
    "4. **Complete the Installation:**\n",
    "   - Click the \"Install Now\" button to start the installation.\n",
    "   - The installer will copy the necessary files and set up Python on your system.\n",
    "\n",
    "5. **Verify Installation:**\n",
    "   - Open a Command Prompt and type `python --version` or `python -V`. This should display the installed Python version.\n",
    "''')"
   ]
  },
  {
   "cell_type": "code",
   "execution_count": null,
   "id": "4b315f5d-7dba-43fd-b459-c97253ada98e",
   "metadata": {},
   "outputs": [],
   "source": []
  }
 ],
 "metadata": {
  "kernelspec": {
   "display_name": "Python 3 (ipykernel)",
   "language": "python",
   "name": "python3"
  },
  "language_info": {
   "codemirror_mode": {
    "name": "ipython",
    "version": 3
   },
   "file_extension": ".py",
   "mimetype": "text/x-python",
   "name": "python",
   "nbconvert_exporter": "python",
   "pygments_lexer": "ipython3",
   "version": "3.10.8"
  }
 },
 "nbformat": 4,
 "nbformat_minor": 5
}
